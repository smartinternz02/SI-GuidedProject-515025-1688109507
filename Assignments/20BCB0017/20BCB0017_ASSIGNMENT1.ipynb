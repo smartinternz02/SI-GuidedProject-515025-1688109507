{
  "nbformat": 4,
  "nbformat_minor": 0,
  "metadata": {
    "colab": {
      "provenance": []
    },
    "kernelspec": {
      "name": "python3",
      "display_name": "Python 3"
    },
    "language_info": {
      "name": "python"
    }
  },
  "cells": [
    {
      "cell_type": "code",
      "execution_count": null,
      "metadata": {
        "colab": {
          "base_uri": "https://localhost:8080/"
        },
        "id": "AaQ96lojHCPQ",
        "outputId": "8ec3d142-6afc-42d8-c7c3-f6d7f51aa8be"
      },
      "outputs": [
        {
          "output_type": "stream",
          "name": "stdout",
          "text": [
            "          0         1         2         3\n",
            "0  0.427336  1.399713  1.219248 -0.310955\n",
            "1 -0.350422  1.140275 -1.630909 -1.453558\n",
            "2 -0.307670 -0.419057  0.693679 -0.153151\n",
            "3 -0.349964 -0.597811 -0.067634 -0.730825\n"
          ]
        }
      ],
      "source": [
        "import pandas as pd\n",
        "import numpy as np\n",
        "\n",
        "# Task - 1\n",
        "data = np.random.randn(4, 4)\n",
        "df = pd.DataFrame(data)\n",
        "print(df)"
      ]
    },
    {
      "cell_type": "code",
      "source": [
        "# Task - 2\n",
        "df.columns = ['Random value 1', 'Random value 2', 'Random value 3', 'Random value 4']\n",
        "print(df)"
      ],
      "metadata": {
        "colab": {
          "base_uri": "https://localhost:8080/"
        },
        "id": "VY2FfkkYQUmV",
        "outputId": "bbea6329-beac-4d21-a947-c6aaa58ba757"
      },
      "execution_count": null,
      "outputs": [
        {
          "output_type": "stream",
          "name": "stdout",
          "text": [
            "   Random value 1  Random value 2  Random value 3  Random value 4\n",
            "0        0.427336        1.399713        1.219248       -0.310955\n",
            "1       -0.350422        1.140275       -1.630909       -1.453558\n",
            "2       -0.307670       -0.419057        0.693679       -0.153151\n",
            "3       -0.349964       -0.597811       -0.067634       -0.730825\n"
          ]
        }
      ]
    },
    {
      "cell_type": "code",
      "source": [
        "# Task - 3\n",
        "df_stats = df.describe()\n",
        "print(df_stats)"
      ],
      "metadata": {
        "colab": {
          "base_uri": "https://localhost:8080/"
        },
        "id": "vyVIc34yQeL4",
        "outputId": "b05d167e-d34a-40f6-ab24-d8f4dc9ca69c"
      },
      "execution_count": null,
      "outputs": [
        {
          "output_type": "stream",
          "name": "stdout",
          "text": [
            "       Random value 1  Random value 2  Random value 3  Random value 4\n",
            "count        4.000000        4.000000        4.000000        4.000000\n",
            "mean        -0.145180        0.380780        0.053596       -0.662122\n",
            "std          0.382204        1.034801        1.241062        0.581223\n",
            "min         -0.350422       -0.597811       -1.630909       -1.453558\n",
            "25%         -0.350078       -0.463746       -0.458453       -0.911508\n",
            "50%         -0.328817        0.360609        0.313023       -0.520890\n",
            "75%         -0.123919        1.205135        0.825072       -0.271504\n",
            "max          0.427336        1.399713        1.219248       -0.153151\n"
          ]
        }
      ]
    },
    {
      "cell_type": "code",
      "source": [
        "# Task - 4\n",
        "null_values = df.isnull().sum()\n",
        "print(null_values)\n",
        "data_types = df.dtypes\n",
        "print(data_types)"
      ],
      "metadata": {
        "colab": {
          "base_uri": "https://localhost:8080/"
        },
        "id": "hp-oO108Qknb",
        "outputId": "2c6fde59-d65b-49cd-e690-d3117ed811b9"
      },
      "execution_count": null,
      "outputs": [
        {
          "output_type": "stream",
          "name": "stdout",
          "text": [
            "Random value 1    0\n",
            "Random value 2    0\n",
            "Random value 3    0\n",
            "Random value 4    0\n",
            "dtype: int64\n",
            "Random value 1    float64\n",
            "Random value 2    float64\n",
            "Random value 3    float64\n",
            "Random value 4    float64\n",
            "dtype: object\n"
          ]
        }
      ]
    },
    {
      "cell_type": "code",
      "source": [
        "# Task - 5\n",
        "random_value_2_loc = df.loc[:, 'Random value 2']\n",
        "print(random_value_2_loc)\n",
        "random_value_3_loc = df.loc[:, 'Random value 3']\n",
        "print(random_value_3_loc)\n",
        "random_value_2_idx = df.iloc[:, 1]\n",
        "print(random_value_2_idx)\n",
        "random_value_3_idx = df.iloc[:, 2]\n",
        "print(random_value_3_idx)"
      ],
      "metadata": {
        "colab": {
          "base_uri": "https://localhost:8080/"
        },
        "id": "UzHqE1rGQn5h",
        "outputId": "2e083719-ba58-4943-8f81-247a033fee7e"
      },
      "execution_count": null,
      "outputs": [
        {
          "output_type": "stream",
          "name": "stdout",
          "text": [
            "0    1.399713\n",
            "1    1.140275\n",
            "2   -0.419057\n",
            "3   -0.597811\n",
            "Name: Random value 2, dtype: float64\n",
            "0    1.219248\n",
            "1   -1.630909\n",
            "2    0.693679\n",
            "3   -0.067634\n",
            "Name: Random value 3, dtype: float64\n",
            "0    1.399713\n",
            "1    1.140275\n",
            "2   -0.419057\n",
            "3   -0.597811\n",
            "Name: Random value 2, dtype: float64\n",
            "0    1.219248\n",
            "1   -1.630909\n",
            "2    0.693679\n",
            "3   -0.067634\n",
            "Name: Random value 3, dtype: float64\n"
          ]
        }
      ]
    }
  ]
}