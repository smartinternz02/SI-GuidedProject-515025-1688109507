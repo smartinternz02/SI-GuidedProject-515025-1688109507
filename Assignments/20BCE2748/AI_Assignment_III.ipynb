{
  "cells": [
    {
      "cell_type": "code",
      "source": [
        "!unzip \"content/Bird.zip\""
      ],
      "metadata": {
        "colab": {
          "base_uri": "https://localhost:8080/"
        },
        "id": "1lgn0XMcnDq0",
        "outputId": "b865c812-bfc1-4fbb-d8a1-eea99e98f2a7"
      },
      "id": "1lgn0XMcnDq0",
      "execution_count": 1,
      "outputs": [
        {
          "output_type": "stream",
          "name": "stdout",
          "text": [
            "unzip:  cannot find or open content/Bird.zip, content/Bird.zip.zip or content/Bird.zip.ZIP.\n"
          ]
        }
      ]
    },
    {
      "cell_type": "code",
      "source": [
        "!file /content/Bird.zip"
      ],
      "metadata": {
        "colab": {
          "base_uri": "https://localhost:8080/"
        },
        "id": "k_N2aYqntU4F",
        "outputId": "ffea5f87-bfce-427d-a769-e72a004111e9"
      },
      "id": "k_N2aYqntU4F",
      "execution_count": 2,
      "outputs": [
        {
          "output_type": "stream",
          "name": "stdout",
          "text": [
            "/content/Bird.zip: cannot open `/content/Bird.zip' (No such file or directory)\n"
          ]
        }
      ]
    },
    {
      "cell_type": "code",
      "source": [
        "import zipfile\n",
        "\n",
        "zip_path = \"/content/Bird.zip\"\n",
        "extract_path = \"/content/extracted_folder\"\n",
        "\n",
        "with zipfile.ZipFile(zip_path, 'r') as zip_ref:\n",
        "    zip_ref.extractall(extract_path)"
      ],
      "metadata": {
        "id": "3hS8j0Z-tiQB"
      },
      "id": "3hS8j0Z-tiQB",
      "execution_count": null,
      "outputs": []
    },
    {
      "cell_type": "code",
      "source": [
        "import shutil\n",
        "\n",
        "zip_path = \"/content/Bird.zip\"\n",
        "extract_path = \"/content/Birds\"\n",
        "\n",
        "shutil.unpack_archive(zip_path, extract_path)"
      ],
      "metadata": {
        "id": "uO-iAgE2tBW1"
      },
      "id": "uO-iAgE2tBW1",
      "execution_count": null,
      "outputs": []
    },
    {
      "cell_type": "code",
      "source": [
        "from google.colab import drive\n",
        "drive.mount('/content/drive')"
      ],
      "metadata": {
        "id": "QEeIUF-Jq2fZ",
        "colab": {
          "base_uri": "https://localhost:8080/"
        },
        "outputId": "882ed305-fc67-424d-86c5-a63255338021"
      },
      "id": "QEeIUF-Jq2fZ",
      "execution_count": 3,
      "outputs": [
        {
          "output_type": "stream",
          "name": "stdout",
          "text": [
            "Mounted at /content/drive\n"
          ]
        }
      ]
    },
    {
      "cell_type": "code",
      "execution_count": 4,
      "id": "3a720a09",
      "metadata": {
        "id": "3a720a09"
      },
      "outputs": [],
      "source": [
        "from tensorflow.keras.preprocessing.image import ImageDataGenerator\n"
      ]
    },
    {
      "cell_type": "code",
      "execution_count": 5,
      "id": "f10e541f",
      "metadata": {
        "id": "f10e541f"
      },
      "outputs": [],
      "source": [
        "train_gen = ImageDataGenerator(rescale=(1./255), horizontal_flip=True, shear_range=0.2)\n",
        "test_gen = ImageDataGenerator(rescale=(1./255))"
      ]
    },
    {
      "cell_type": "code",
      "execution_count": 6,
      "id": "a084abf3",
      "metadata": {
        "colab": {
          "base_uri": "https://localhost:8080/"
        },
        "id": "a084abf3",
        "outputId": "421cb2a1-b842-474a-ee22-d285933ca313"
      },
      "outputs": [
        {
          "output_type": "execute_result",
          "data": {
            "text/plain": [
              "['test_data', 'train_data']"
            ]
          },
          "metadata": {},
          "execution_count": 6
        }
      ],
      "source": [
        "import shutil, random, os\n",
        "dirpath = '/content/drive/MyDrive/Birds'\n",
        "destDirectory = './test'\n",
        "\n",
        "filenames = os.listdir(dirpath)\n",
        "filenames\n",
        "# for fname in filenames:\n",
        "#     srcpath = os.path.join(dirpath, fname)\n",
        "#     shutil.copyfile(srcpath, destDirectory)\n",
        "# filenamest"
      ]
    },
    {
      "cell_type": "markdown",
      "source": [
        "# CNN Model"
      ],
      "metadata": {
        "id": "bcThq2bzkEWc"
      },
      "id": "bcThq2bzkEWc"
    },
    {
      "cell_type": "code",
      "execution_count": 7,
      "id": "4b5e603e",
      "metadata": {
        "id": "4b5e603e",
        "outputId": "5ae943ad-c540-44f2-d02d-7cf57bee4bbd",
        "colab": {
          "base_uri": "https://localhost:8080/"
        }
      },
      "outputs": [
        {
          "output_type": "stream",
          "name": "stdout",
          "text": [
            "Found 150 images belonging to 16 classes.\n"
          ]
        }
      ],
      "source": [
        "train = train_gen.flow_from_directory(\"/content/drive/MyDrive/Birds/train_data/train_data\", target_size=(64,64),class_mode='categorical', batch_size=8)"
      ]
    },
    {
      "cell_type": "code",
      "execution_count": 8,
      "id": "c1e2b790",
      "metadata": {
        "id": "c1e2b790",
        "outputId": "2cffde1c-fb7e-4f86-ef69-52d82dac1e34",
        "colab": {
          "base_uri": "https://localhost:8080/"
        }
      },
      "outputs": [
        {
          "output_type": "stream",
          "name": "stdout",
          "text": [
            "Found 157 images belonging to 16 classes.\n"
          ]
        }
      ],
      "source": [
        "test = test_gen.flow_from_directory(\"/content/drive/MyDrive/Birds/test_data/test_data\", target_size=(64,64), class_mode='categorical', batch_size=8)"
      ]
    },
    {
      "cell_type": "code",
      "execution_count": 9,
      "id": "fdd366ec",
      "metadata": {
        "id": "fdd366ec",
        "outputId": "71a2900d-417b-43c3-d440-7d333c242c25",
        "colab": {
          "base_uri": "https://localhost:8080/"
        }
      },
      "outputs": [
        {
          "output_type": "execute_result",
          "data": {
            "text/plain": [
              "{'blasti': 0,\n",
              " 'bonegl': 1,\n",
              " 'brhkyt': 2,\n",
              " 'cbrtsh': 3,\n",
              " 'cmnmyn': 4,\n",
              " 'gretit': 5,\n",
              " 'hilpig': 6,\n",
              " 'himbul': 7,\n",
              " 'himgri': 8,\n",
              " 'hsparo': 9,\n",
              " 'indvul': 10,\n",
              " 'jglowl': 11,\n",
              " 'lbicrw': 12,\n",
              " 'mgprob': 13,\n",
              " 'rebimg': 14,\n",
              " 'wcrsrt': 15}"
            ]
          },
          "metadata": {},
          "execution_count": 9
        }
      ],
      "source": [
        "train.class_indices"
      ]
    },
    {
      "cell_type": "code",
      "execution_count": 10,
      "id": "eebdff48",
      "metadata": {
        "id": "eebdff48"
      },
      "outputs": [],
      "source": [
        "from tensorflow.keras.layers import Convolution2D, MaxPooling2D, Flatten, Dense\n",
        "from tensorflow.keras.models import Sequential"
      ]
    },
    {
      "cell_type": "code",
      "execution_count": 11,
      "id": "36f1aab8",
      "metadata": {
        "id": "36f1aab8"
      },
      "outputs": [],
      "source": [
        "model = Sequential()\n",
        "model.add(Convolution2D(20,(3,3),activation='relu',input_shape=(64, 64, 3)))\n",
        "model.add(MaxPooling2D(pool_size=(2,2)))\n",
        "model.add(Flatten())\n",
        "model.add(Dense(45,activation='relu'))\n",
        "model.add(Dense(16,activation='softmax'))"
      ]
    },
    {
      "cell_type": "code",
      "execution_count": 12,
      "id": "780dda62",
      "metadata": {
        "id": "780dda62"
      },
      "outputs": [],
      "source": [
        "model.compile(optimizer='adam', loss='categorical_crossentropy', metrics=['accuracy'])"
      ]
    },
    {
      "cell_type": "code",
      "execution_count": 13,
      "id": "820a65f0",
      "metadata": {
        "id": "820a65f0",
        "outputId": "50fad0c1-02bc-4419-f920-041458117a8a",
        "colab": {
          "base_uri": "https://localhost:8080/"
        }
      },
      "outputs": [
        {
          "output_type": "stream",
          "name": "stdout",
          "text": [
            "Epoch 1/20\n",
            "19/19 [==============================] - 174s 9s/step - loss: 2.8434 - accuracy: 0.0933 - val_loss: 2.6912 - val_accuracy: 0.0955\n",
            "Epoch 2/20\n",
            "19/19 [==============================] - 85s 5s/step - loss: 2.4603 - accuracy: 0.1933 - val_loss: 2.6177 - val_accuracy: 0.2038\n",
            "Epoch 3/20\n",
            "19/19 [==============================] - 119s 6s/step - loss: 2.2473 - accuracy: 0.2733 - val_loss: 2.6560 - val_accuracy: 0.1975\n",
            "Epoch 4/20\n",
            "19/19 [==============================] - 84s 5s/step - loss: 2.1551 - accuracy: 0.3000 - val_loss: 2.6528 - val_accuracy: 0.1529\n",
            "Epoch 5/20\n",
            "19/19 [==============================] - 119s 6s/step - loss: 1.9799 - accuracy: 0.3933 - val_loss: 2.7252 - val_accuracy: 0.1720\n",
            "Epoch 6/20\n",
            "19/19 [==============================] - 118s 6s/step - loss: 1.7565 - accuracy: 0.5200 - val_loss: 2.6772 - val_accuracy: 0.1911\n",
            "Epoch 7/20\n",
            "19/19 [==============================] - 84s 5s/step - loss: 1.5892 - accuracy: 0.5267 - val_loss: 2.8078 - val_accuracy: 0.1720\n",
            "Epoch 8/20\n",
            "19/19 [==============================] - 118s 6s/step - loss: 1.3551 - accuracy: 0.6200 - val_loss: 2.7096 - val_accuracy: 0.2229\n",
            "Epoch 9/20\n",
            "19/19 [==============================] - 83s 5s/step - loss: 1.1560 - accuracy: 0.7000 - val_loss: 2.8369 - val_accuracy: 0.2357\n",
            "Epoch 10/20\n",
            "19/19 [==============================] - 118s 6s/step - loss: 1.0139 - accuracy: 0.7333 - val_loss: 2.7418 - val_accuracy: 0.2293\n",
            "Epoch 11/20\n",
            "19/19 [==============================] - 118s 7s/step - loss: 0.7299 - accuracy: 0.8467 - val_loss: 2.9325 - val_accuracy: 0.1975\n",
            "Epoch 12/20\n",
            "19/19 [==============================] - 84s 5s/step - loss: 0.7470 - accuracy: 0.8133 - val_loss: 2.8249 - val_accuracy: 0.2229\n",
            "Epoch 13/20\n",
            "19/19 [==============================] - 85s 5s/step - loss: 0.6252 - accuracy: 0.8800 - val_loss: 2.8564 - val_accuracy: 0.2102\n",
            "Epoch 14/20\n",
            "19/19 [==============================] - 86s 5s/step - loss: 0.4817 - accuracy: 0.9133 - val_loss: 2.9189 - val_accuracy: 0.2548\n",
            "Epoch 15/20\n",
            "19/19 [==============================] - 86s 5s/step - loss: 0.3769 - accuracy: 0.9200 - val_loss: 3.1059 - val_accuracy: 0.1847\n",
            "Epoch 16/20\n",
            "19/19 [==============================] - 118s 6s/step - loss: 0.3827 - accuracy: 0.9133 - val_loss: 3.0701 - val_accuracy: 0.2166\n",
            "Epoch 17/20\n",
            "19/19 [==============================] - 118s 6s/step - loss: 0.3003 - accuracy: 0.9667 - val_loss: 3.1003 - val_accuracy: 0.2611\n",
            "Epoch 18/20\n",
            "19/19 [==============================] - 119s 6s/step - loss: 0.2664 - accuracy: 0.9667 - val_loss: 2.9822 - val_accuracy: 0.2611\n",
            "Epoch 19/20\n",
            "19/19 [==============================] - 84s 5s/step - loss: 0.2395 - accuracy: 0.9667 - val_loss: 3.0364 - val_accuracy: 0.2357\n",
            "Epoch 20/20\n",
            "19/19 [==============================] - 118s 6s/step - loss: 0.2270 - accuracy: 0.9667 - val_loss: 3.2037 - val_accuracy: 0.2293\n"
          ]
        },
        {
          "output_type": "execute_result",
          "data": {
            "text/plain": [
              "<keras.callbacks.History at 0x7f25744df7f0>"
            ]
          },
          "metadata": {},
          "execution_count": 13
        }
      ],
      "source": [
        "model.fit(train,batch_size=8,validation_data=test,epochs=20)"
      ]
    },
    {
      "cell_type": "code",
      "source": [
        "model.save('BirdsClassification.h5')"
      ],
      "metadata": {
        "id": "IFuAaAmvvZeU"
      },
      "id": "IFuAaAmvvZeU",
      "execution_count": 14,
      "outputs": []
    },
    {
      "cell_type": "markdown",
      "source": [
        "# Testing"
      ],
      "metadata": {
        "id": "xXk7IqmvvT3_"
      },
      "id": "xXk7IqmvvT3_"
    },
    {
      "cell_type": "code",
      "source": [
        "import numpy as np\n",
        "from tensorflow.keras.preprocessing import image"
      ],
      "metadata": {
        "id": "gGto3PPFvVis"
      },
      "id": "gGto3PPFvVis",
      "execution_count": 15,
      "outputs": []
    },
    {
      "cell_type": "code",
      "source": [
        "img = image.load_img('/content/drive/MyDrive/Birds/train_data/train_data/blasti/DSC_6382.jpg',target_size=(64,64))"
      ],
      "metadata": {
        "id": "Tb56Uxm1vkz-"
      },
      "id": "Tb56Uxm1vkz-",
      "execution_count": 21,
      "outputs": []
    },
    {
      "cell_type": "code",
      "source": [
        "img"
      ],
      "metadata": {
        "colab": {
          "base_uri": "https://localhost:8080/",
          "height": 81
        },
        "id": "icDIPBryvpxp",
        "outputId": "7d3ea9bc-7ec5-4822-c11a-596e8b247d6c"
      },
      "id": "icDIPBryvpxp",
      "execution_count": 22,
      "outputs": [
        {
          "output_type": "execute_result",
          "data": {
            "text/plain": [
              "<PIL.Image.Image image mode=RGB size=64x64 at 0x7F257722FF10>"
            ],
            "image/png": "[encoded data removed]"
          },
          "metadata": {},
          "execution_count": 22
        }
      ]
    },
    {
      "cell_type": "code",
      "source": [
        "img = image.img_to_array(img)\n",
        "img"
      ],
      "metadata": {
        "colab": {
          "base_uri": "https://localhost:8080/"
        },
        "id": "cvVMMis5vqhc",
        "outputId": "a7e50b89-d436-4885-beaf-015fc9cd37c4"
      },
      "id": "cvVMMis5vqhc",
      "execution_count": 23,
      "outputs": [
        {
          "output_type": "execute_result",
          "data": {
            "text/plain": [
              "array([[[ 70.,  58.,  44.],\n",
              "        [ 89.,  68.,  49.],\n",
              "        [ 98.,  78.,  53.],\n",
              "        ...,\n",
              "        [ 66.,  56.,  54.],\n",
              "        [122.,  88.,  60.],\n",
              "        [159., 110.,  80.]],\n",
              "\n",
              "       [[ 63.,  57.,  45.],\n",
              "        [ 57.,  55.,  40.],\n",
              "        [ 71.,  65.,  49.],\n",
              "        ...,\n",
              "        [ 63.,  53.,  51.],\n",
              "        [127.,  99.,  60.],\n",
              "        [148., 105.,  73.]],\n",
              "\n",
              "       [[ 62.,  58.,  47.],\n",
              "        [ 58.,  54.,  42.],\n",
              "        [ 86.,  74.,  60.],\n",
              "        ...,\n",
              "        [ 59.,  56.,  49.],\n",
              "        [ 89.,  70.,  55.],\n",
              "        [128.,  95.,  64.]],\n",
              "\n",
              "       ...,\n",
              "\n",
              "       [[ 84.,  67.,  51.],\n",
              "        [ 79.,  63.,  50.],\n",
              "        [ 80.,  63.,  55.],\n",
              "        ...,\n",
              "        [ 85.,  64.,  45.],\n",
              "        [ 75.,  66.,  61.],\n",
              "        [ 65.,  55.,  45.]],\n",
              "\n",
              "       [[ 93.,  71.,  57.],\n",
              "        [ 80.,  62.,  50.],\n",
              "        [ 69.,  56.,  47.],\n",
              "        ...,\n",
              "        [ 60.,  45.,  26.],\n",
              "        [ 75.,  58.,  42.],\n",
              "        [ 62.,  45.,  35.]],\n",
              "\n",
              "       [[ 97.,  72.,  52.],\n",
              "        [112.,  97.,  56.],\n",
              "        [ 73.,  55.,  41.],\n",
              "        ...,\n",
              "        [ 72.,  64.,  45.],\n",
              "        [ 63.,  54.,  37.],\n",
              "        [ 64.,  56.,  35.]]], dtype=float32)"
            ]
          },
          "metadata": {},
          "execution_count": 23
        }
      ]
    },
    {
      "cell_type": "code",
      "source": [
        "img = np.expand_dims(img,axis=0)\n",
        "img"
      ],
      "metadata": {
        "colab": {
          "base_uri": "https://localhost:8080/"
        },
        "id": "o1bE91fkvtOf",
        "outputId": "65ea57be-aa17-4e41-80fa-fda5766c2cd3"
      },
      "id": "o1bE91fkvtOf",
      "execution_count": 24,
      "outputs": [
        {
          "output_type": "execute_result",
          "data": {
            "text/plain": [
              "array([[[[ 70.,  58.,  44.],\n",
              "         [ 89.,  68.,  49.],\n",
              "         [ 98.,  78.,  53.],\n",
              "         ...,\n",
              "         [ 66.,  56.,  54.],\n",
              "         [122.,  88.,  60.],\n",
              "         [159., 110.,  80.]],\n",
              "\n",
              "        [[ 63.,  57.,  45.],\n",
              "         [ 57.,  55.,  40.],\n",
              "         [ 71.,  65.,  49.],\n",
              "         ...,\n",
              "         [ 63.,  53.,  51.],\n",
              "         [127.,  99.,  60.],\n",
              "         [148., 105.,  73.]],\n",
              "\n",
              "        [[ 62.,  58.,  47.],\n",
              "         [ 58.,  54.,  42.],\n",
              "         [ 86.,  74.,  60.],\n",
              "         ...,\n",
              "         [ 59.,  56.,  49.],\n",
              "         [ 89.,  70.,  55.],\n",
              "         [128.,  95.,  64.]],\n",
              "\n",
              "        ...,\n",
              "\n",
              "        [[ 84.,  67.,  51.],\n",
              "         [ 79.,  63.,  50.],\n",
              "         [ 80.,  63.,  55.],\n",
              "         ...,\n",
              "         [ 85.,  64.,  45.],\n",
              "         [ 75.,  66.,  61.],\n",
              "         [ 65.,  55.,  45.]],\n",
              "\n",
              "        [[ 93.,  71.,  57.],\n",
              "         [ 80.,  62.,  50.],\n",
              "         [ 69.,  56.,  47.],\n",
              "         ...,\n",
              "         [ 60.,  45.,  26.],\n",
              "         [ 75.,  58.,  42.],\n",
              "         [ 62.,  45.,  35.]],\n",
              "\n",
              "        [[ 97.,  72.,  52.],\n",
              "         [112.,  97.,  56.],\n",
              "         [ 73.,  55.,  41.],\n",
              "         ...,\n",
              "         [ 72.,  64.,  45.],\n",
              "         [ 63.,  54.,  37.],\n",
              "         [ 64.,  56.,  35.]]]], dtype=float32)"
            ]
          },
          "metadata": {},
          "execution_count": 24
        }
      ]
    },
    {
      "cell_type": "code",
      "source": [
        "np.argmax(model.predict(img))"
      ],
      "metadata": {
        "colab": {
          "base_uri": "https://localhost:8080/"
        },
        "id": "b8DhGTLAvzUs",
        "outputId": "b8e3d0b8-ea41-4a58-c924-af3094d7499c"
      },
      "id": "b8DhGTLAvzUs",
      "execution_count": 25,
      "outputs": [
        {
          "output_type": "stream",
          "name": "stdout",
          "text": [
            "1/1 [==============================] - 0s 93ms/step\n"
          ]
        },
        {
          "output_type": "execute_result",
          "data": {
            "text/plain": [
              "0"
            ]
          },
          "metadata": {},
          "execution_count": 25
        }
      ]
    },
    {
      "cell_type": "markdown",
      "source": [
        "Hence, the model is able to correctly predict the above image as Blasti. The accuracy of the model is: 96.67%."
      ],
      "metadata": {
        "id": "W9lPjou2791U"
      },
      "id": "W9lPjou2791U"
    }
  ],
  "metadata": {
    "kernelspec": {
      "display_name": "Python 3",
      "name": "python3"
    },
    "language_info": {
      "codemirror_mode": {
        "name": "ipython",
        "version": 3
      },
      "file_extension": ".py",
      "mimetype": "text/x-python",
      "name": "python",
      "nbconvert_exporter": "python",
      "pygments_lexer": "ipython3",
      "version": "3.8.10"
    },
    "colab": {
      "provenance": [],
      "gpuType": "T4"
    },
    "accelerator": "GPU"
  },
  "nbformat": 4,
  "nbformat_minor": 5
}